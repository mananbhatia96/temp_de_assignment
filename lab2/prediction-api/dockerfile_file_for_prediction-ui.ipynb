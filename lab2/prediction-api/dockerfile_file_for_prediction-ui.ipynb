{
 "cells": [
  {
   "cell_type": "code",
   "execution_count": null,
   "id": "855b9311-f10f-484c-aa3d-ee564175e4bb",
   "metadata": {},
   "outputs": [],
   "source": [
    "# Using python 3.12.7 slim image as the base image\n",
    "FROM python:3.12.7-slim\n",
    "\n",
    "# Defining working directory (within the container)\n",
    "WORKDIR /usr/src/myapp\n",
    "\n",
    "# Copy requirements.txt to the working directory\n",
    "COPY requirements.txt .\n",
    "\n",
    "# Install required python packages\n",
    "RUN pip install --no-cache-dir -r requirements.txt\n",
    "\n",
    "# Copy all files in prediction-ui local host directory to /usr/src/myapp in Docker container\n",
    "COPY . .\n",
    "\n",
    "# Expose the port that our Flask app will run on\n",
    "EXPOSE 5000\n",
    "\n",
    "# Environment Variables (update the API URL)\n",
    "ENV PREDICTOR_API=http://predictor-api-server:5000/heart_disease_predictor/\n",
    "\n",
    "# Metadata labels (optional)\n",
    "LABEL heart.disease.predictor.api=\"0.0.1-beta\"\n",
    "\n",
    "# Run our Flask App\n",
    "CMD [\"python3\", \"app.py\"]\n"
   ]
  }
 ],
 "metadata": {
  "kernelspec": {
   "display_name": "Python 3 (ipykernel)",
   "language": "python",
   "name": "python3"
  },
  "language_info": {
   "codemirror_mode": {
    "name": "ipython",
    "version": 3
   },
   "file_extension": ".py",
   "mimetype": "text/x-python",
   "name": "python",
   "nbconvert_exporter": "python",
   "pygments_lexer": "ipython3",
   "version": "3.11.7"
  }
 },
 "nbformat": 4,
 "nbformat_minor": 5
}
